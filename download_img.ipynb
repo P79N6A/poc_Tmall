{
 "cells": [
  {
   "cell_type": "code",
   "execution_count": 1,
   "metadata": {
    "scrolled": true
   },
   "outputs": [],
   "source": [
    "import numpy as np\n",
    "from selenium import webdriver\n",
    "import pandas as pd\n",
    "import xlrd, time\n",
    "from selenium.webdriver.common.keys import Keys\n",
    "from selenium.webdriver.support.ui import WebDriverWait\n",
    "from selenium.webdriver.common.by import By\n",
    "from selenium.webdriver.support import expected_conditions as EC\n",
    "import urllib"
   ]
  },
  {
   "cell_type": "code",
   "execution_count": 8,
   "metadata": {},
   "outputs": [],
   "source": [
    "Navigateur = \"Chrome\"\n",
    "#chrome_path = r\"C:\\Users\\lenovo\\Documents\\Samir\\64- Data Analysis Tools\\18- Selenium\\chromedriver\\chromedriver.exe\"\n",
    "#chromeOptions = webdriver.ChromeOptions()\n",
    "#chromeOptions.add_argument('headless')\n",
    "#prefs = {\"profile.managed_default_content_settings.images\":2}\n",
    "#chromeOptions.add_experimental_option(\"prefs\",prefs)\n",
    "driver = webdriver.Chrome('/Users/roger/Drive_Artefact/TMALL/Code/chromedrive/chromedriver')\n"
   ]
  },
  {
   "cell_type": "code",
   "execution_count": 9,
   "metadata": {},
   "outputs": [],
   "source": [
    "timeout = np.random.randint(1, 10)\n",
    "\n",
    "def Recherches_css(css):\n",
    "    return driver.find_elements_by_css_selector(css)\n",
    "def Recherche_css(css):\n",
    "    return driver.find_element_by_css_selector(css) \n",
    "def Recherche_xpath(xpath):\n",
    "    return driver.find_element_by_xpath(xpath)\n",
    "def Recherches_xpath(xpath):\n",
    "    return driver.find_elements_by_xpath(xpath)\n",
    "def Wait_path(path_selector):\n",
    "    WebDriverWait(driver, timeout).until(EC.visibility_of_all_elements_located((By.XPATH,path_selector)))\n",
    "def Wait_css(path_selector):\n",
    "    WebDriverWait(driver, timeout).until(EC.visibility_of_all_elements_located((By.CSS_SELECTOR,path_selector)))\n",
    "def find_start( s,last ):\n",
    "    try:\n",
    "        end = s.index( last)\n",
    "        return s[0:end]\n",
    "    except ValueError:\n",
    "        return \"\"\n",
    "def find_end( s, first):\n",
    "    try:\n",
    "        start = s.index( first ) + len( first ); end = len(s)\n",
    "        return s[start:end]\n",
    "    except ValueError:\n",
    "        return \"\"\n",
    "def pages_count(s):\n",
    "    try:\n",
    "        end = s.index('页')\n",
    "        return s[1:end]\n",
    "    except ValueError:\n",
    "        return \"\"\n",
    "def Double_Click(css):\n",
    "    Element = Recherche_css(css)\n",
    "    Element.click()\n",
    "\n",
    "        \n",
    "# Liens\n",
    "#Link_1 = \"https://lorealoumeisi.world.tmall.com/search.htm?spm=a312a.7700824.w4011-16312946027.93.4670278ct1vy4J&search=y&pageNo=1&tsearch=y#anchor\"\n",
    "Link_1 = \"https://detail.tmall.com/item.htm?spm=a312a.7700824.w4011-16312946027.99.31be278cCwPmOH&id=562559604731&rn=6780dfd4bfa478677945a8b34c8ea9c5&abbucket=3&skuId=4175576155653\"\n",
    "Title = []\n",
    "Price = []\n",
    "Sales = []\n",
    "Page = []\n",
    "\n",
    "\n",
    "driver.get(Link_1)"
   ]
  },
  {
   "cell_type": "code",
   "execution_count": 10,
   "metadata": {},
   "outputs": [
    {
     "data": {
      "text/plain": [
       "['https://img.alicdn.com/imgextra/i4/3221993002/O1CN01B9y7Ao1Y2xUoGTlpb_!!0-item_pic.jpg_430x430q90.jpg']"
      ]
     },
     "execution_count": 10,
     "metadata": {},
     "output_type": "execute_result"
    }
   ],
   "source": [
    "imgs = []\n",
    "css_img = \"img[id^='J_ImgBooth']\"\n",
    "\n",
    "for p in Recherches_css(css_img):\n",
    "        imgs.append(p.get_attribute('src'))\n",
    "        \n",
    "imgs"
   ]
  },
  {
   "cell_type": "code",
   "execution_count": 33,
   "metadata": {},
   "outputs": [
    {
     "data": {
      "text/plain": [
       "{'产品名称': 'L＇oreal欧莱雅 男士水能保湿强润霜',\n",
       " '品牌': \"L'OREAL 欧莱雅\",\n",
       " '欧莱雅单品': '男士水能保湿强润霜',\n",
       " '适合肤质': '任何肤质',\n",
       " '功效': '补水保湿',\n",
       " '化妆品净含量': '100ml',\n",
       " '是否为特殊用途化妆品': '否',\n",
       " '限期使用日期范围': '2020-09-01至2020-10-01'}"
      ]
     },
     "execution_count": 33,
     "metadata": {},
     "output_type": "execute_result"
    }
   ],
   "source": [
    "from hanziconv import HanziConv\n",
    "    \n",
    "prod_info = {}\n",
    "css_pt =\"ul[id^='J_AttrUL']>li\"\n",
    "\n",
    "for p in Recherches_css(css_pt):\n",
    "    name = p.text\n",
    "    name = re.split(':', name)[0]\n",
    "    name = re.split('：', name)[0]\n",
    "    name = HanziConv.toSimplified(name)\n",
    "    txt = p.get_attribute('title')\n",
    "    txt = txt.replace('/', '')\n",
    "    txt = txt.replace(u'\\xa0', u'')\n",
    "    txt = HanziConv.toSimplified(txt)\n",
    "    prod_info[name] = txt\n",
    "prod_info"
   ]
  },
  {
   "cell_type": "code",
   "execution_count": 39,
   "metadata": {},
   "outputs": [
    {
     "data": {
      "text/plain": [
       "'人付款'"
      ]
     },
     "execution_count": 39,
     "metadata": {},
     "output_type": "execute_result"
    }
   ],
   "source": [
    " HanziConv.toTraditional('人付款')"
   ]
  },
  {
   "cell_type": "code",
   "execution_count": 38,
   "metadata": {},
   "outputs": [
    {
     "data": {
      "text/plain": [
       "('imgs-2/L＇oreal欧莱雅 男士水能保湿强润霜.jpg', <http.client.HTTPMessage at 0x1144c3240>)"
      ]
     },
     "execution_count": 38,
     "metadata": {},
     "output_type": "execute_result"
    }
   ],
   "source": [
    "urllib.request.urlretrieve(imgs[0],\"imgs-2/\" + prod_info['产品名称']+\".jpg\")"
   ]
  },
  {
   "cell_type": "code",
   "execution_count": 75,
   "metadata": {
    "collapsed": true
   },
   "outputs": [
    {
     "data": {
      "text/plain": [
       "['歐萊雅粉底液24小時控油持久保濕遮瑕提亮裸妝BB霜粉底膏官網正品',\n",
       " '歐萊雅男士面霜保濕補水護臉霜擦臉油爽膚水護膚品套裝旗艦店官網',\n",
       " '歐萊雅男士洗面奶男清潔控油磨砂抗黑頭潔面膏潔面乳去黑頭縮毛孔',\n",
       " '巴黎歐萊雅透明質酸水潤洗發水女無矽油控油洗發露膏持久留香官網',\n",
       " '歐萊雅男士洗面奶男火山岩控油祛痘黑頭深層清潔學生旗艦店官網',\n",
       " '歐萊雅眼霜抗皺緊致淡化細紋去黑眼圈去眼袋男士專用旗艦店官網',\n",
       " '歐萊雅清潤葡萄籽套裝女補水保濕護膚化妝品旗艦店官網正品專櫃',\n",
       " '歐萊雅精油護發女修複幹枯防毛躁燙染受損發油卷發護卷女免洗正品',\n",
       " '歐萊雅複顏抗皺緊致護膚套裝女士補水保濕水乳小樣旗艦店官網正品',\n",
       " '歐萊雅男士洗面奶男控油祛痘去黑頭去油潔面乳護膚品套裝官網正品',\n",
       " '歐萊雅男士洗面奶男抗黑頭潔面膏乳套裝控油祛痘去黑頭專用旗艦店',\n",
       " '歐萊雅男士洗面奶水能控油補水保濕滋潤乳面霜護膚品套裝化妝品',\n",
       " '歐萊雅茶樹植萃無矽油去屑止癢去油洗發水露 油頭控油清潔淨油型',\n",
       " '歐萊雅男士水能保濕酷爽水凝露爽膚水120ml補水保濕鎖水收縮毛孔',\n",
       " '歐萊雅套裝女補水保濕葡萄籽水乳護膚品套裝女士官方旗艦店正品',\n",
       " '歐萊雅全臉眼霜女緊致補水淡化細紋去除黑眼圈眼袋抗皺官網旗艦店',\n",
       " '歐萊雅男士面霜保濕霜保濕補水潤膚露護臉霜油護膚品套裝官網正品',\n",
       " '歐萊雅護發精油修複防毛躁柔順頭發燙染受損燙後護卷發護理免洗女',\n",
       " '巴黎歐萊雅三合一魔術卸妝水液 眼唇臉部溫和深層清潔免洗無刺激',\n",
       " '歐萊雅精油潤養洗發露 深層滋養清潔洗發水柔順改善修複受損發質',\n",
       " '歐萊雅透明質酸水潤洗發露深層清潔滋潤補水持久留香無矽油洗發水',\n",
       " '歐萊雅清潤葡萄籽鮮粹面膜女補水保濕鎖水滋潤提亮膚色緊致肌膚',\n",
       " '歐萊雅葡萄籽護膚品套裝女補水保濕水乳化妝品旗艦店官網正品專櫃',\n",
       " '歐萊雅男士面霜保濕補水乳液擦臉油潤膚露旗艦店官網正品護膚品',\n",
       " '歐萊雅男士面霜保濕補水護膚霜潤膚露抗皺緊致擦臉油護膚品朱一龍',\n",
       " '歐萊雅紅胖子氣墊BB霜蔡徐坤持久保濕遮瑕提亮膚色裸妝粉底液CC霜',\n",
       " '巴黎歐萊雅洗發水女控油去屑止癢正品透明質酸洗發露無矽油洗頭膏',\n",
       " '歐萊雅多重防護隔離露 防紫外線全身持久保濕提亮膚色滋潤防曬霜',\n",
       " '歐萊雅奇煥潤發精油有光澤法國玫瑰香氛修複幹枯毛躁燙染受損正品',\n",
       " '歐萊雅護發精油修複防毛躁柔順頭發燙染受損護發素正品女官網正品',\n",
       " '歐萊雅男士洗面奶水能保濕爽膚水護膚品套裝化妝品面霜控油旗艦店',\n",
       " '巴黎歐萊雅女複顏玻尿酸護膚化妝品套裝補水保濕潔面水乳面霜正品',\n",
       " '歐萊雅男士銳能抗皺緊致多效霜臉部護膚保濕補水乳液擦臉油護正品',\n",
       " '歐萊雅複顏玻尿酸護膚化妝品水乳套裝女士補水保濕旗艦店官網正品',\n",
       " '歐萊雅女士複顏抗皺日霜晚霜套裝保濕補水乳面霜護膚品官方旗艦店',\n",
       " '歐萊雅精油護發素修複頭發幹枯補水順滑燙染受損改善毛躁官網正品',\n",
       " \"L'oreal歐萊雅茶樹植萃去屑滋養洗發露無矽油洗發水正品去屑止癢\",\n",
       " '歐萊雅洗發水露男士無矽油清爽去屑控油止癢洗發膏留香正品',\n",
       " '[小粉瓶]歐萊雅清潤葡萄籽鮮粹精華液保濕能量彈 補水面部精華',\n",
       " '歐萊雅複顏抗皺護膚品套裝正品女補水保濕水乳抗衰套盒化妝品官網',\n",
       " '歐萊雅小黑瓶青春密碼酵素精華肌底液緊致補水保濕面部精華液正品',\n",
       " '歐萊雅BB霜奇煥光感粉底液女高遮瑕提亮保濕持久裸妝隔離官網學生',\n",
       " '巴黎歐萊雅男士輕爽塑型啫喱膏200ml定型保濕 持久定型淨爽提亮',\n",
       " '歐萊雅男士護膚火山岩控油清痘冰感水凝露補水保濕爽膚水官網正品',\n",
       " '歐萊雅男士輕爽塑型啫喱膏發膠快速定型蓬松男啫喱水膏清香頭發女',\n",
       " '歐萊雅男士控油炭爽抗黑頭潔面膏清潔洗面奶祛黑頭潔面乳官方正品',\n",
       " '巴黎歐萊雅三合一卸妝水潔顏水女臉部溫和清潔無刺激眼唇免洗官網',\n",
       " '歐萊雅清潤葡萄籽水嫩泡沫潔面乳洗面奶深層清潔卸妝補水控油學生',\n",
       " '歐萊雅複顏系列緊致滋潤潔面乳 清潔滋潤提拉緊致肌膚洗面奶',\n",
       " '歐萊雅 男士護膚火山岩系列套裝控油清痘水油平衡保濕滋潤',\n",
       " '歐萊雅男士護膚套裝激能洗面奶醒膚露爽膚水保濕乳液潤膚補水面霜',\n",
       " '歐萊雅紛澤豐潤霧感唇膏王源239辣椒色顏九220黑管啞光口紅女正品',\n",
       " '歐萊雅清潤葡萄籽水嫩膜力眼霜 補水保濕滋潤清爽對抗幹紋幹性',\n",
       " '歐萊雅爽膚水女士補水保濕收縮毛孔深層滋潤葡萄籽精華水護膚正品',\n",
       " '歐萊雅男士水能洗面奶控油抗痘去黑頭保濕補水收縮毛孔男官網正品',\n",
       " '歐萊雅男士潔面膏2支裝組合洗面奶深層清潔控油去黑頭保濕淡痘印',\n",
       " '歐萊雅卸妝水潔顏水臉部溫和清潔無刺激眼唇卸妝液官方旗艦店正品',\n",
       " \"L'OREAL 歐萊雅男士強塑定型三孔噴霧造型發膠幹膠正品非發泥發蠟\",\n",
       " '歐萊雅314口紅王源霧感唇釉唇膏唇蜜唇彩小蠻腰吃土色318奶茶308',\n",
       " '歐萊雅紛澤溢彩釉光唇膏唇釉滋潤不脫色豆沙色口紅908 911',\n",
       " '歐萊雅粉底液24小時控油持久保濕遮瑕提亮裸妝BB霜粉底膏官網正品',\n",
       " '歐萊雅男士面霜保濕補水護臉霜擦臉油爽膚水護膚品套裝旗艦店官網',\n",
       " '歐萊雅男士洗面奶男清潔控油磨砂抗黑頭潔面膏潔面乳去黑頭縮毛孔',\n",
       " '巴黎歐萊雅透明質酸水潤洗發水女無矽油控油洗發露膏持久留香官網',\n",
       " '歐萊雅男士洗面奶男火山岩控油祛痘黑頭深層清潔學生旗艦店官網',\n",
       " '歐萊雅眼霜抗皺緊致淡化細紋去黑眼圈去眼袋男士專用旗艦店官網',\n",
       " '歐萊雅清潤葡萄籽套裝女補水保濕護膚化妝品旗艦店官網正品專櫃',\n",
       " '歐萊雅精油護發女修複幹枯防毛躁燙染受損發油卷發護卷女免洗正品',\n",
       " '歐萊雅複顏抗皺緊致護膚套裝女士補水保濕水乳小樣旗艦店官網正品',\n",
       " '歐萊雅男士洗面奶男控油祛痘去黑頭去油潔面乳護膚品套裝官網正品']"
      ]
     },
     "execution_count": 75,
     "metadata": {},
     "output_type": "execute_result"
    }
   ],
   "source": [
    "Title"
   ]
  },
  {
   "cell_type": "code",
   "execution_count": 72,
   "metadata": {},
   "outputs": [
    {
     "ename": "NoSuchElementException",
     "evalue": "Message: no such element: Unable to locate element: {\"method\":\"xpath\",\"selector\":\"/html/body/div[1]/div[2]/div[3]/div[1]/div[26]/div/div/div/div[2]/input\"}\n  (Session info: chrome=73.0.3683.75)\n  (Driver info: chromedriver=73.0.3683.68 (47787ec04b6e38e22703e856e101e840b65afe72),platform=Mac OS X 10.14.3 x86_64)\n",
     "output_type": "error",
     "traceback": [
      "\u001b[0;31m---------------------------------------------------------------------------\u001b[0m",
      "\u001b[0;31mNoSuchElementException\u001b[0m                    Traceback (most recent call last)",
      "\u001b[0;32m<ipython-input-72-5690743271ba>\u001b[0m in \u001b[0;36m<module>\u001b[0;34m\u001b[0m\n\u001b[1;32m      8\u001b[0m \u001b[0;34m\u001b[0m\u001b[0m\n\u001b[1;32m      9\u001b[0m \u001b[0;34m\u001b[0m\u001b[0m\n\u001b[0;32m---> 10\u001b[0;31m \u001b[0mCurrentPage\u001b[0m \u001b[0;34m=\u001b[0m \u001b[0mint\u001b[0m\u001b[0;34m(\u001b[0m\u001b[0mRecherche_xpath\u001b[0m\u001b[0;34m(\u001b[0m\u001b[0mCurrentPage_Xpath\u001b[0m\u001b[0;34m)\u001b[0m\u001b[0;34m.\u001b[0m\u001b[0mget_attribute\u001b[0m\u001b[0;34m(\u001b[0m\u001b[0;34m'value'\u001b[0m\u001b[0;34m)\u001b[0m\u001b[0;34m)\u001b[0m\u001b[0;34m\u001b[0m\u001b[0;34m\u001b[0m\u001b[0m\n\u001b[0m\u001b[1;32m     11\u001b[0m \u001b[0mCurrentPage\u001b[0m \u001b[0;34m=\u001b[0m \u001b[0;36m0\u001b[0m\u001b[0;34m\u001b[0m\u001b[0;34m\u001b[0m\u001b[0m\n\u001b[1;32m     12\u001b[0m \u001b[0mTotalPage\u001b[0m \u001b[0;34m=\u001b[0m \u001b[0mint\u001b[0m\u001b[0;34m(\u001b[0m\u001b[0mpages_count\u001b[0m\u001b[0;34m(\u001b[0m\u001b[0mRecherche_xpath\u001b[0m\u001b[0;34m(\u001b[0m\u001b[0mTotalPage_Xpath\u001b[0m\u001b[0;34m)\u001b[0m\u001b[0;34m.\u001b[0m\u001b[0mtext\u001b[0m\u001b[0;34m)\u001b[0m\u001b[0;34m)\u001b[0m\u001b[0;34m\u001b[0m\u001b[0;34m\u001b[0m\u001b[0m\n",
      "\u001b[0;32m<ipython-input-69-723256e8c809>\u001b[0m in \u001b[0;36mRecherche_xpath\u001b[0;34m(xpath)\u001b[0m\n\u001b[1;32m      6\u001b[0m     \u001b[0;32mreturn\u001b[0m \u001b[0mdriver\u001b[0m\u001b[0;34m.\u001b[0m\u001b[0mfind_element_by_css_selector\u001b[0m\u001b[0;34m(\u001b[0m\u001b[0mcss\u001b[0m\u001b[0;34m)\u001b[0m\u001b[0;34m\u001b[0m\u001b[0;34m\u001b[0m\u001b[0m\n\u001b[1;32m      7\u001b[0m \u001b[0;32mdef\u001b[0m \u001b[0mRecherche_xpath\u001b[0m\u001b[0;34m(\u001b[0m\u001b[0mxpath\u001b[0m\u001b[0;34m)\u001b[0m\u001b[0;34m:\u001b[0m\u001b[0;34m\u001b[0m\u001b[0;34m\u001b[0m\u001b[0m\n\u001b[0;32m----> 8\u001b[0;31m     \u001b[0;32mreturn\u001b[0m \u001b[0mdriver\u001b[0m\u001b[0;34m.\u001b[0m\u001b[0mfind_element_by_xpath\u001b[0m\u001b[0;34m(\u001b[0m\u001b[0mxpath\u001b[0m\u001b[0;34m)\u001b[0m\u001b[0;34m\u001b[0m\u001b[0;34m\u001b[0m\u001b[0m\n\u001b[0m\u001b[1;32m      9\u001b[0m \u001b[0;32mdef\u001b[0m \u001b[0mRecherches_xpath\u001b[0m\u001b[0;34m(\u001b[0m\u001b[0mxpath\u001b[0m\u001b[0;34m)\u001b[0m\u001b[0;34m:\u001b[0m\u001b[0;34m\u001b[0m\u001b[0;34m\u001b[0m\u001b[0m\n\u001b[1;32m     10\u001b[0m     \u001b[0;32mreturn\u001b[0m \u001b[0mdriver\u001b[0m\u001b[0;34m.\u001b[0m\u001b[0mfind_elements_by_xpath\u001b[0m\u001b[0;34m(\u001b[0m\u001b[0mxpath\u001b[0m\u001b[0;34m)\u001b[0m\u001b[0;34m\u001b[0m\u001b[0;34m\u001b[0m\u001b[0m\n",
      "\u001b[0;32m~/anaconda3/envs/test/lib/python3.7/site-packages/selenium/webdriver/remote/webdriver.py\u001b[0m in \u001b[0;36mfind_element_by_xpath\u001b[0;34m(self, xpath)\u001b[0m\n\u001b[1;32m    392\u001b[0m             \u001b[0melement\u001b[0m \u001b[0;34m=\u001b[0m \u001b[0mdriver\u001b[0m\u001b[0;34m.\u001b[0m\u001b[0mfind_element_by_xpath\u001b[0m\u001b[0;34m(\u001b[0m\u001b[0;34m'//div/td[1]'\u001b[0m\u001b[0;34m)\u001b[0m\u001b[0;34m\u001b[0m\u001b[0;34m\u001b[0m\u001b[0m\n\u001b[1;32m    393\u001b[0m         \"\"\"\n\u001b[0;32m--> 394\u001b[0;31m         \u001b[0;32mreturn\u001b[0m \u001b[0mself\u001b[0m\u001b[0;34m.\u001b[0m\u001b[0mfind_element\u001b[0m\u001b[0;34m(\u001b[0m\u001b[0mby\u001b[0m\u001b[0;34m=\u001b[0m\u001b[0mBy\u001b[0m\u001b[0;34m.\u001b[0m\u001b[0mXPATH\u001b[0m\u001b[0;34m,\u001b[0m \u001b[0mvalue\u001b[0m\u001b[0;34m=\u001b[0m\u001b[0mxpath\u001b[0m\u001b[0;34m)\u001b[0m\u001b[0;34m\u001b[0m\u001b[0;34m\u001b[0m\u001b[0m\n\u001b[0m\u001b[1;32m    395\u001b[0m \u001b[0;34m\u001b[0m\u001b[0m\n\u001b[1;32m    396\u001b[0m     \u001b[0;32mdef\u001b[0m \u001b[0mfind_elements_by_xpath\u001b[0m\u001b[0;34m(\u001b[0m\u001b[0mself\u001b[0m\u001b[0;34m,\u001b[0m \u001b[0mxpath\u001b[0m\u001b[0;34m)\u001b[0m\u001b[0;34m:\u001b[0m\u001b[0;34m\u001b[0m\u001b[0;34m\u001b[0m\u001b[0m\n",
      "\u001b[0;32m~/anaconda3/envs/test/lib/python3.7/site-packages/selenium/webdriver/remote/webdriver.py\u001b[0m in \u001b[0;36mfind_element\u001b[0;34m(self, by, value)\u001b[0m\n\u001b[1;32m    976\u001b[0m         return self.execute(Command.FIND_ELEMENT, {\n\u001b[1;32m    977\u001b[0m             \u001b[0;34m'using'\u001b[0m\u001b[0;34m:\u001b[0m \u001b[0mby\u001b[0m\u001b[0;34m,\u001b[0m\u001b[0;34m\u001b[0m\u001b[0;34m\u001b[0m\u001b[0m\n\u001b[0;32m--> 978\u001b[0;31m             'value': value})['value']\n\u001b[0m\u001b[1;32m    979\u001b[0m \u001b[0;34m\u001b[0m\u001b[0m\n\u001b[1;32m    980\u001b[0m     \u001b[0;32mdef\u001b[0m \u001b[0mfind_elements\u001b[0m\u001b[0;34m(\u001b[0m\u001b[0mself\u001b[0m\u001b[0;34m,\u001b[0m \u001b[0mby\u001b[0m\u001b[0;34m=\u001b[0m\u001b[0mBy\u001b[0m\u001b[0;34m.\u001b[0m\u001b[0mID\u001b[0m\u001b[0;34m,\u001b[0m \u001b[0mvalue\u001b[0m\u001b[0;34m=\u001b[0m\u001b[0;32mNone\u001b[0m\u001b[0;34m)\u001b[0m\u001b[0;34m:\u001b[0m\u001b[0;34m\u001b[0m\u001b[0;34m\u001b[0m\u001b[0m\n",
      "\u001b[0;32m~/anaconda3/envs/test/lib/python3.7/site-packages/selenium/webdriver/remote/webdriver.py\u001b[0m in \u001b[0;36mexecute\u001b[0;34m(self, driver_command, params)\u001b[0m\n\u001b[1;32m    319\u001b[0m         \u001b[0mresponse\u001b[0m \u001b[0;34m=\u001b[0m \u001b[0mself\u001b[0m\u001b[0;34m.\u001b[0m\u001b[0mcommand_executor\u001b[0m\u001b[0;34m.\u001b[0m\u001b[0mexecute\u001b[0m\u001b[0;34m(\u001b[0m\u001b[0mdriver_command\u001b[0m\u001b[0;34m,\u001b[0m \u001b[0mparams\u001b[0m\u001b[0;34m)\u001b[0m\u001b[0;34m\u001b[0m\u001b[0;34m\u001b[0m\u001b[0m\n\u001b[1;32m    320\u001b[0m         \u001b[0;32mif\u001b[0m \u001b[0mresponse\u001b[0m\u001b[0;34m:\u001b[0m\u001b[0;34m\u001b[0m\u001b[0;34m\u001b[0m\u001b[0m\n\u001b[0;32m--> 321\u001b[0;31m             \u001b[0mself\u001b[0m\u001b[0;34m.\u001b[0m\u001b[0merror_handler\u001b[0m\u001b[0;34m.\u001b[0m\u001b[0mcheck_response\u001b[0m\u001b[0;34m(\u001b[0m\u001b[0mresponse\u001b[0m\u001b[0;34m)\u001b[0m\u001b[0;34m\u001b[0m\u001b[0;34m\u001b[0m\u001b[0m\n\u001b[0m\u001b[1;32m    322\u001b[0m             response['value'] = self._unwrap_value(\n\u001b[1;32m    323\u001b[0m                 response.get('value', None))\n",
      "\u001b[0;32m~/anaconda3/envs/test/lib/python3.7/site-packages/selenium/webdriver/remote/errorhandler.py\u001b[0m in \u001b[0;36mcheck_response\u001b[0;34m(self, response)\u001b[0m\n\u001b[1;32m    240\u001b[0m                 \u001b[0malert_text\u001b[0m \u001b[0;34m=\u001b[0m \u001b[0mvalue\u001b[0m\u001b[0;34m[\u001b[0m\u001b[0;34m'alert'\u001b[0m\u001b[0;34m]\u001b[0m\u001b[0;34m.\u001b[0m\u001b[0mget\u001b[0m\u001b[0;34m(\u001b[0m\u001b[0;34m'text'\u001b[0m\u001b[0;34m)\u001b[0m\u001b[0;34m\u001b[0m\u001b[0;34m\u001b[0m\u001b[0m\n\u001b[1;32m    241\u001b[0m             \u001b[0;32mraise\u001b[0m \u001b[0mexception_class\u001b[0m\u001b[0;34m(\u001b[0m\u001b[0mmessage\u001b[0m\u001b[0;34m,\u001b[0m \u001b[0mscreen\u001b[0m\u001b[0;34m,\u001b[0m \u001b[0mstacktrace\u001b[0m\u001b[0;34m,\u001b[0m \u001b[0malert_text\u001b[0m\u001b[0;34m)\u001b[0m\u001b[0;34m\u001b[0m\u001b[0;34m\u001b[0m\u001b[0m\n\u001b[0;32m--> 242\u001b[0;31m         \u001b[0;32mraise\u001b[0m \u001b[0mexception_class\u001b[0m\u001b[0;34m(\u001b[0m\u001b[0mmessage\u001b[0m\u001b[0;34m,\u001b[0m \u001b[0mscreen\u001b[0m\u001b[0;34m,\u001b[0m \u001b[0mstacktrace\u001b[0m\u001b[0;34m)\u001b[0m\u001b[0;34m\u001b[0m\u001b[0;34m\u001b[0m\u001b[0m\n\u001b[0m\u001b[1;32m    243\u001b[0m \u001b[0;34m\u001b[0m\u001b[0m\n\u001b[1;32m    244\u001b[0m     \u001b[0;32mdef\u001b[0m \u001b[0m_value_or_default\u001b[0m\u001b[0;34m(\u001b[0m\u001b[0mself\u001b[0m\u001b[0;34m,\u001b[0m \u001b[0mobj\u001b[0m\u001b[0;34m,\u001b[0m \u001b[0mkey\u001b[0m\u001b[0;34m,\u001b[0m \u001b[0mdefault\u001b[0m\u001b[0;34m)\u001b[0m\u001b[0;34m:\u001b[0m\u001b[0;34m\u001b[0m\u001b[0;34m\u001b[0m\u001b[0m\n",
      "\u001b[0;31mNoSuchElementException\u001b[0m: Message: no such element: Unable to locate element: {\"method\":\"xpath\",\"selector\":\"/html/body/div[1]/div[2]/div[3]/div[1]/div[26]/div/div/div/div[2]/input\"}\n  (Session info: chrome=73.0.3683.75)\n  (Driver info: chromedriver=73.0.3683.68 (47787ec04b6e38e22703e856e101e840b65afe72),platform=Mac OS X 10.14.3 x86_64)\n"
     ]
    }
   ],
   "source": [
    "css_pt =\"div>div[class^='detail']>div[class^='item-name']>a\"\n",
    "css_ps =\"div[class='items']>div>div[class^='ctx-box']>div[class^='row']>div[class^='price']\"\n",
    "css_sales = \"div[class='items']>div>div[class^='ctx-box']>div[class^='row']>div[class^='deal-cnt']\"\n",
    "\n",
    "TotalPage_Xpath = \"/html/body/div[1]/div[2]/div[3]/div[1]/div[26]/div/div/div/div[1]\"\n",
    "CurrentPage_Xpath = \"/html/body/div[1]/div[2]/div[3]/div[1]/div[26]/div/div/div/div[2]/input\"\n",
    "PageSuivante_css = \"div[class='pager']>ul[class='items']>li[class='item']>a[title='下一页']\"\n",
    "\n",
    "\n",
    "CurrentPage = int(Recherche_xpath(CurrentPage_Xpath).get_attribute('value'))\n",
    "CurrentPage = 0\n",
    "TotalPage = int(pages_count(Recherche_xpath(TotalPage_Xpath).text))\n",
    "\n",
    "while CurrentPage<TotalPage-1:\n",
    "\n",
    "\n",
    "    Wait_path(CurrentPage_Xpath)\n",
    "    Wait_css(css_pt)\n",
    "    CurrentPage = CurrentPage + 1\n",
    "    PageSuivante = Recherche_css(PageSuivante_css)\n",
    "\n",
    "    for p in Recherches_css(css_pt):\n",
    "        Title.append(p.text)\n",
    "\n",
    "    for p in Recherches_css(css_ps):\n",
    "        Price.append(p.text)\n",
    "\n",
    "    for p in Recherches_css(css_sales):\n",
    "        Sales.append(p.text)\n",
    "        Page.append(CurrentPage)\n",
    "\n",
    "    PageSuivante.click()\n",
    "    print(\"Page Actuelle: \"+ str(CurrentPage))\n"
   ]
  },
  {
   "cell_type": "markdown",
   "metadata": {},
   "source": [
    "## Code Shamy"
   ]
  },
  {
   "cell_type": "code",
   "execution_count": null,
   "metadata": {},
   "outputs": [],
   "source": [
    "def Lancement(Link):\n",
    "    driver.get(Link)\n",
    "    \n",
    "    css_pt =\"div[class='items']>div>div[class^='ctx-box']>div[class^='row']>a\"\n",
    "    css_ps =\"div[class='items']>div>div[class^='ctx-box']>div[class^='row']>div[class^='price']\"\n",
    "    css_sales = \"div[class='items']>div>div[class^='ctx-box']>div[class^='row']>div[class^='deal-cnt']\"\n",
    "    \n",
    "    TotalPage_Xpath = \"/html/body/div[1]/div[2]/div[3]/div[1]/div[26]/div/div/div/div[1]\"\n",
    "    CurrentPage_Xpath = \"/html/body/div[1]/div[2]/div[3]/div[1]/div[26]/div/div/div/div[2]/input\"\n",
    "    PageSuivante_css = \"div[class='pager']>ul[class='items']>li[class='item']>a[title='下一页']\"\n",
    "\n",
    "    \n",
    "    CurrentPage = int(Recherche_xpath(CurrentPage_Xpath).get_attribute('value'))\n",
    "    CurrentPage = 0\n",
    "    TotalPage = int(pages_count(Recherche_xpath(TotalPage_Xpath).text))\n",
    "    \n",
    "    while CurrentPage<TotalPage-1:\n",
    "        \n",
    "        \n",
    "        Wait_path(CurrentPage_Xpath)\n",
    "        Wait_css(css_pt)\n",
    "        CurrentPage = CurrentPage + 1\n",
    "        PageSuivante = Recherche_css(PageSuivante_css)\n",
    "        \n",
    "        for p in Recherches_css(css_pt):\n",
    "            Title.append(p.text)\n",
    "        \n",
    "        for p in Recherches_css(css_ps):\n",
    "            Price.append(p.text)\n",
    "        \n",
    "        for p in Recherches_css(css_sales):\n",
    "            Sales.append(p.text)\n",
    "            Page.append(CurrentPage)\n",
    "        \n",
    "        PageSuivante.click()\n",
    "        print(\"Page Actuelle: \"+ str(CurrentPage))\n",
    "            \n",
    "\n",
    "def Export():\n",
    "    \n",
    "    df_results = pd.DataFrame({\n",
    "    'SKU' : Title,\n",
    "    'Sales' : Sales,\n",
    "    'Price' : Price,\n",
    "    'Page' : Page,\n",
    "    })\n",
    "    \n",
    "    Name = \"180801 - Zara Sales Data.xlsx\"\n",
    "    writer2 = pd.ExcelWriter(Name, engine='xlsxwriter')\n",
    "    df_results.to_excel(writer2,sheet_name = \"Sales\")\n",
    "    writer2.save()\n",
    "    writer2.close()\n",
    "\n",
    "Lancement(Link_1)\n",
    "Export()   "
   ]
  },
  {
   "cell_type": "code",
   "execution_count": null,
   "metadata": {},
   "outputs": [],
   "source": [
    "v"
   ]
  },
  {
   "cell_type": "code",
   "execution_count": null,
   "metadata": {},
   "outputs": [],
   "source": []
  }
 ],
 "metadata": {
  "kernelspec": {
   "display_name": "Python 3",
   "language": "python",
   "name": "python3"
  },
  "language_info": {
   "codemirror_mode": {
    "name": "ipython",
    "version": 3
   },
   "file_extension": ".py",
   "mimetype": "text/x-python",
   "name": "python",
   "nbconvert_exporter": "python",
   "pygments_lexer": "ipython3",
   "version": "3.7.2"
  }
 },
 "nbformat": 4,
 "nbformat_minor": 2
}
